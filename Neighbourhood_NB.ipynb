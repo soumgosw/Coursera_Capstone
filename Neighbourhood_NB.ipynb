{
 "cells": [
  {
   "cell_type": "markdown",
   "metadata": {},
   "source": [
    "<H1>A place for videogames Developers"
   ]
  },
  {
   "cell_type": "markdown",
   "metadata": {
    "collapsed": true
   },
   "source": [
    "<H5>Introduction/Business Problem"
   ]
  },
  {
   "cell_type": "markdown",
   "metadata": {},
   "source": [
    "Toronto is an international centre for business and finance. Generally considered the financial capital of Canada. The city is an important centre for the media, publishing, telecommunication, information technology and film production industries; Although much of the region's manufacturing activities take place outside the city limits, Toronto continues to be a wholesale and distribution point for the industrial sector. The city's strategic position along the Quebec City–Windsor Corridor and its road and rail connections help support the nearby production of motor vehicles, iron, steel, food, machinery, chemicals and paper. The completion of the Saint Lawrence Seaway in 1959 gave ships access to the Great Lakes from the Atlantic Ocean.\n",
    "\n",
    "There has recently been a substantial amount of interest in the emergence of video game development as an industry in Canada and its impact on the economy, the creative industries, the role studios play in specific city ecosystems and how video games affect physically and mentally. A recent study was done at McMaster University studying how playing video games improves the eyesight of those who suffer from vision problems.Toronto, Montreal, Quebec is a particularly popular subject of study due to the maturity of the gaming industry and its overall urban ecology.\n",
    "\n",
    "Therefore, finding space for enough people to work with and/or start on the industry requres a selection of places where to share and build a network. As finding new places might be overwhelming, I decided to move to a office / coworking place locator in order to get to the right place."
   ]
  },
  {
   "cell_type": "markdown",
   "metadata": {},
   "source": [
    "<H5>Methodology and Data Requirement"
   ]
  },
  {
   "cell_type": "markdown",
   "metadata": {},
   "source": [
    "We will use K-mean clustering to segment and cluster Toronto neighborhoods to understand their similarity. With that understanding, we will be able to recommend a suitable place. Such location would be near universities, media agencies, tech startups and coworkings spaces."
   ]
  },
  {
   "cell_type": "markdown",
   "metadata": {},
   "source": [
    "List of Toronto boroughs and neighborhoods which can be found at https://en.wikipedia.org/wiki/List_of_postal_codes_of_Canada:_M to explore, segment, and cluster.\n",
    "Toronto's sociodemographic data which can be found at https://en.wikipedia.org/wiki/Demographics_of_Toronto_neighbourhoods. Information on venues in Toronto extracted from Foursquare.com\n",
    "\n",
    "Postal codes in Canada are listed in this wiki, where the first letter is M. Postal codes beginning with M are located within the city of Toronto in the province of Ontario."
   ]
  },
  {
   "cell_type": "markdown",
   "metadata": {},
   "source": [
    "Data downloaded or scraped from multiple sources were combined into one table. There were a lot of missing values in the dataset (marked as “Not assigned” in Borough and Neighbourhood), because of lack of record keeping."
   ]
  },
  {
   "cell_type": "code",
   "execution_count": 1,
   "metadata": {},
   "outputs": [],
   "source": [
    "coworking_code = '4bf58dd8d48988d174941735'\n",
    "tech_startup = '4bf58dd8d48988d125941735'\n",
    "corporate_coffee_shop = '5665c7b9498e7d8a4f2c0f06'\n",
    "recruiting_agency = '52f2ab2ebcbc57f1066b8b57'\n",
    "college_technology = '4bf58dd8d48988d19f941735'\n",
    "design_studio = '4bf58dd8d48988d1f4941735'"
   ]
  },
  {
   "cell_type": "code",
   "execution_count": null,
   "metadata": {},
   "outputs": [],
   "source": [
    "from bs4 import BeautifulSoup\n",
    "import requests\n",
    "import pandas as pd\n",
    "import csv\n",
    "import json\n",
    "\n",
    "import os\n",
    "from dotenv import load_dotenv\n",
    "load_dotenv()\n",
    "\n",
    "CLIENT_ID = os.environ[\"CLIENT_ID\"]\n",
    "CLIENT_SECRET = os.environ[\"CLIENT_SECRET\"]\n",
    "VERSION = os.environ[\"VERSION\"]\n",
    "\n",
    "VERSION_2 = os.environ[\"VERSION_2\"]\n",
    "\n",
    "from geopy.geocoders import Nominatim \n",
    "import numpy as np\n",
    "from pandas.io.json import json_normalize # Tranform JSON file into a pandas dataframe\n",
    "\n",
    "# Visualisation\n",
    "import matplotlib.cm as cm\n",
    "import matplotlib.colors as colores\n",
    "import folium \n",
    "\n",
    "\n",
    "#Modeling\n",
    "from sklearn.cluster import KMeans"
   ]
  }
 ],
 "metadata": {
  "kernelspec": {
   "display_name": "Python 3.6",
   "language": "python",
   "name": "python3"
  },
  "language_info": {
   "codemirror_mode": {
    "name": "ipython",
    "version": 3
   },
   "file_extension": ".py",
   "mimetype": "text/x-python",
   "name": "python",
   "nbconvert_exporter": "python",
   "pygments_lexer": "ipython3",
   "version": "3.6.9"
  }
 },
 "nbformat": 4,
 "nbformat_minor": 1
}
